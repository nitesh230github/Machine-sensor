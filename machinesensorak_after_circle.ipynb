{
 "cells": [
  {
   "cell_type": "code",
   "execution_count": 2,
   "metadata": {},
   "outputs": [],
   "source": [
    "import pandas as pd\n",
    "import numpy as np\n",
    "%matplotlib inline \n",
    "import matplotlib.pyplot as plt"
   ]
  },
  {
   "cell_type": "code",
   "execution_count": 3,
   "metadata": {},
   "outputs": [
    {
     "data": {
      "text/plain": [
       "(168697, 6)"
      ]
     },
     "execution_count": 3,
     "metadata": {},
     "output_type": "execute_result"
    }
   ],
   "source": [
    "data=pd.read_csv(\"C:/Users/Dell/Desktop/new.csv\")\n",
    "data.shape"
   ]
  },
  {
   "cell_type": "code",
   "execution_count": 4,
   "metadata": {},
   "outputs": [
    {
     "data": {
      "text/html": [
       "<div>\n",
       "<style scoped>\n",
       "    .dataframe tbody tr th:only-of-type {\n",
       "        vertical-align: middle;\n",
       "    }\n",
       "\n",
       "    .dataframe tbody tr th {\n",
       "        vertical-align: top;\n",
       "    }\n",
       "\n",
       "    .dataframe thead th {\n",
       "        text-align: right;\n",
       "    }\n",
       "</style>\n",
       "<table border=\"1\" class=\"dataframe\">\n",
       "  <thead>\n",
       "    <tr style=\"text-align: right;\">\n",
       "      <th></th>\n",
       "      <th>Timestamp</th>\n",
       "      <th>Sensor 1</th>\n",
       "      <th>Sensor 2</th>\n",
       "      <th>Sensor 3</th>\n",
       "      <th>Sensor 4</th>\n",
       "      <th>Label</th>\n",
       "    </tr>\n",
       "  </thead>\n",
       "  <tbody>\n",
       "    <tr>\n",
       "      <th>0</th>\n",
       "      <td>2/21/2020 12:35</td>\n",
       "      <td>2.79</td>\n",
       "      <td>2.78</td>\n",
       "      <td>1159.0</td>\n",
       "      <td>9.0</td>\n",
       "      <td>High Speed Normal</td>\n",
       "    </tr>\n",
       "    <tr>\n",
       "      <th>1</th>\n",
       "      <td>2/21/2020 12:35</td>\n",
       "      <td>2.84</td>\n",
       "      <td>2.78</td>\n",
       "      <td>1159.0</td>\n",
       "      <td>9.0</td>\n",
       "      <td>High Speed Normal</td>\n",
       "    </tr>\n",
       "    <tr>\n",
       "      <th>2</th>\n",
       "      <td>2/21/2020 12:35</td>\n",
       "      <td>2.82</td>\n",
       "      <td>2.80</td>\n",
       "      <td>1159.0</td>\n",
       "      <td>9.0</td>\n",
       "      <td>High Speed Normal</td>\n",
       "    </tr>\n",
       "    <tr>\n",
       "      <th>3</th>\n",
       "      <td>2/21/2020 12:35</td>\n",
       "      <td>2.81</td>\n",
       "      <td>2.80</td>\n",
       "      <td>1159.0</td>\n",
       "      <td>9.0</td>\n",
       "      <td>High Speed Normal</td>\n",
       "    </tr>\n",
       "    <tr>\n",
       "      <th>4</th>\n",
       "      <td>2/21/2020 12:35</td>\n",
       "      <td>2.82</td>\n",
       "      <td>2.76</td>\n",
       "      <td>1159.0</td>\n",
       "      <td>9.0</td>\n",
       "      <td>High Speed Normal</td>\n",
       "    </tr>\n",
       "  </tbody>\n",
       "</table>\n",
       "</div>"
      ],
      "text/plain": [
       "         Timestamp  Sensor 1  Sensor 2  Sensor 3  Sensor 4              Label\n",
       "0  2/21/2020 12:35      2.79      2.78    1159.0       9.0  High Speed Normal\n",
       "1  2/21/2020 12:35      2.84      2.78    1159.0       9.0  High Speed Normal\n",
       "2  2/21/2020 12:35      2.82      2.80    1159.0       9.0  High Speed Normal\n",
       "3  2/21/2020 12:35      2.81      2.80    1159.0       9.0  High Speed Normal\n",
       "4  2/21/2020 12:35      2.82      2.76    1159.0       9.0  High Speed Normal"
      ]
     },
     "execution_count": 4,
     "metadata": {},
     "output_type": "execute_result"
    }
   ],
   "source": [
    "data.head()"
   ]
  },
  {
   "cell_type": "code",
   "execution_count": 5,
   "metadata": {},
   "outputs": [
    {
     "name": "stdout",
     "output_type": "stream",
     "text": [
      "<class 'pandas.core.frame.DataFrame'>\n",
      "RangeIndex: 168697 entries, 0 to 168696\n",
      "Data columns (total 6 columns):\n",
      " #   Column     Non-Null Count   Dtype  \n",
      "---  ------     --------------   -----  \n",
      " 0   Timestamp  168697 non-null  object \n",
      " 1   Sensor 1   168697 non-null  float64\n",
      " 2   Sensor 2   168697 non-null  float64\n",
      " 3   Sensor 3   168697 non-null  float64\n",
      " 4   Sensor 4   168697 non-null  float64\n",
      " 5   Label      168697 non-null  object \n",
      "dtypes: float64(4), object(2)\n",
      "memory usage: 7.7+ MB\n"
     ]
    }
   ],
   "source": [
    "data.info()"
   ]
  },
  {
   "cell_type": "code",
   "execution_count": 6,
   "metadata": {},
   "outputs": [
    {
     "data": {
      "text/plain": [
       "High Speed Normal              102696\n",
       "Medium Speed Normal             65833\n",
       "Low Speed High Vibration          126\n",
       "Low Speed Normal                   31\n",
       "Medium Speed High Vibration         5\n",
       "High Speed High Current             4\n",
       "High Speed High Vibration           2\n",
       "Name: Label, dtype: int64"
      ]
     },
     "execution_count": 6,
     "metadata": {},
     "output_type": "execute_result"
    }
   ],
   "source": [
    "data[\"Label\"].value_counts()"
   ]
  },
  {
   "cell_type": "code",
   "execution_count": 7,
   "metadata": {},
   "outputs": [
    {
     "data": {
      "text/html": [
       "<div>\n",
       "<style scoped>\n",
       "    .dataframe tbody tr th:only-of-type {\n",
       "        vertical-align: middle;\n",
       "    }\n",
       "\n",
       "    .dataframe tbody tr th {\n",
       "        vertical-align: top;\n",
       "    }\n",
       "\n",
       "    .dataframe thead th {\n",
       "        text-align: right;\n",
       "    }\n",
       "</style>\n",
       "<table border=\"1\" class=\"dataframe\">\n",
       "  <thead>\n",
       "    <tr style=\"text-align: right;\">\n",
       "      <th></th>\n",
       "      <th>Sensor 1</th>\n",
       "      <th>Sensor 2</th>\n",
       "      <th>Sensor 3</th>\n",
       "      <th>Sensor 4</th>\n",
       "    </tr>\n",
       "  </thead>\n",
       "  <tbody>\n",
       "    <tr>\n",
       "      <th>count</th>\n",
       "      <td>168697.000000</td>\n",
       "      <td>168697.000000</td>\n",
       "      <td>168697.000000</td>\n",
       "      <td>168697.000000</td>\n",
       "    </tr>\n",
       "    <tr>\n",
       "      <th>mean</th>\n",
       "      <td>2.340096</td>\n",
       "      <td>2.348681</td>\n",
       "      <td>1168.297024</td>\n",
       "      <td>8.553074</td>\n",
       "    </tr>\n",
       "    <tr>\n",
       "      <th>std</th>\n",
       "      <td>0.614607</td>\n",
       "      <td>0.596306</td>\n",
       "      <td>36.957278</td>\n",
       "      <td>1.234726</td>\n",
       "    </tr>\n",
       "    <tr>\n",
       "      <th>min</th>\n",
       "      <td>1.470000</td>\n",
       "      <td>1.130000</td>\n",
       "      <td>605.000000</td>\n",
       "      <td>0.000000</td>\n",
       "    </tr>\n",
       "    <tr>\n",
       "      <th>25%</th>\n",
       "      <td>1.560000</td>\n",
       "      <td>1.610000</td>\n",
       "      <td>1148.000000</td>\n",
       "      <td>7.000000</td>\n",
       "    </tr>\n",
       "    <tr>\n",
       "      <th>50%</th>\n",
       "      <td>2.770000</td>\n",
       "      <td>2.780000</td>\n",
       "      <td>1159.000000</td>\n",
       "      <td>9.000000</td>\n",
       "    </tr>\n",
       "    <tr>\n",
       "      <th>75%</th>\n",
       "      <td>2.820000</td>\n",
       "      <td>2.820000</td>\n",
       "      <td>1209.000000</td>\n",
       "      <td>10.000000</td>\n",
       "    </tr>\n",
       "    <tr>\n",
       "      <th>max</th>\n",
       "      <td>8.820000</td>\n",
       "      <td>3.790000</td>\n",
       "      <td>1261.000000</td>\n",
       "      <td>13.000000</td>\n",
       "    </tr>\n",
       "  </tbody>\n",
       "</table>\n",
       "</div>"
      ],
      "text/plain": [
       "            Sensor 1       Sensor 2       Sensor 3       Sensor 4\n",
       "count  168697.000000  168697.000000  168697.000000  168697.000000\n",
       "mean        2.340096       2.348681    1168.297024       8.553074\n",
       "std         0.614607       0.596306      36.957278       1.234726\n",
       "min         1.470000       1.130000     605.000000       0.000000\n",
       "25%         1.560000       1.610000    1148.000000       7.000000\n",
       "50%         2.770000       2.780000    1159.000000       9.000000\n",
       "75%         2.820000       2.820000    1209.000000      10.000000\n",
       "max         8.820000       3.790000    1261.000000      13.000000"
      ]
     },
     "execution_count": 7,
     "metadata": {},
     "output_type": "execute_result"
    }
   ],
   "source": [
    "data.describe()"
   ]
  },
  {
   "cell_type": "code",
   "execution_count": 8,
   "metadata": {},
   "outputs": [
    {
     "data": {
      "text/plain": [
       "['Sensor 1', 'Sensor 2', 'Sensor 3', 'Sensor 4']"
      ]
     },
     "execution_count": 8,
     "metadata": {},
     "output_type": "execute_result"
    }
   ],
   "source": [
    "columns=[col for col in data.columns if not col.find('Sensor') ]\n",
    "columns"
   ]
  },
  {
   "cell_type": "code",
   "execution_count": 9,
   "metadata": {},
   "outputs": [
    {
     "data": {
      "image/png": "[encoded data removed]",
      "text/plain": [
       "<Figure size 432x288 with 1 Axes>"
      ]
     },
     "metadata": {
      "needs_background": "light"
     },
     "output_type": "display_data"
    },
    {
     "data": {
      "image/png": "[encoded data removed]",
      "text/plain": [
       "<Figure size 432x288 with 1 Axes>"
      ]
     },
     "metadata": {
      "needs_background": "light"
     },
     "output_type": "display_data"
    },
    {
     "data": {
      "image/png": "[encoded data removed]",
      "text/plain": [
       "<Figure size 432x288 with 1 Axes>"
      ]
     },
     "metadata": {
      "needs_background": "light"
     },
     "output_type": "display_data"
    },
    {
     "data": {
      "image/png": "[encoded data removed]",
      "text/plain": [
       "<Figure size 432x288 with 1 Axes>"
      ]
     },
     "metadata": {
      "needs_background": "light"
     },
     "output_type": "display_data"
    }
   ],
   "source": [
    "for col in columns:\n",
    "    data.plot.scatter(x=col,y='Label')"
   ]
  },
  {
   "cell_type": "code",
   "execution_count": 10,
   "metadata": {},
   "outputs": [
    {
     "data": {
      "text/html": [
       "<div>\n",
       "<style scoped>\n",
       "    .dataframe tbody tr th:only-of-type {\n",
       "        vertical-align: middle;\n",
       "    }\n",
       "\n",
       "    .dataframe tbody tr th {\n",
       "        vertical-align: top;\n",
       "    }\n",
       "\n",
       "    .dataframe thead th {\n",
       "        text-align: right;\n",
       "    }\n",
       "</style>\n",
       "<table border=\"1\" class=\"dataframe\">\n",
       "  <thead>\n",
       "    <tr style=\"text-align: right;\">\n",
       "      <th></th>\n",
       "      <th>Sensor 1</th>\n",
       "      <th>Sensor 2</th>\n",
       "      <th>Sensor 3</th>\n",
       "      <th>Sensor 4</th>\n",
       "    </tr>\n",
       "  </thead>\n",
       "  <tbody>\n",
       "    <tr>\n",
       "      <th>Sensor 1</th>\n",
       "      <td>1.000000</td>\n",
       "      <td>0.992006</td>\n",
       "      <td>0.424558</td>\n",
       "      <td>0.918957</td>\n",
       "    </tr>\n",
       "    <tr>\n",
       "      <th>Sensor 2</th>\n",
       "      <td>0.992006</td>\n",
       "      <td>1.000000</td>\n",
       "      <td>0.460436</td>\n",
       "      <td>0.921139</td>\n",
       "    </tr>\n",
       "    <tr>\n",
       "      <th>Sensor 3</th>\n",
       "      <td>0.424558</td>\n",
       "      <td>0.460436</td>\n",
       "      <td>1.000000</td>\n",
       "      <td>0.480065</td>\n",
       "    </tr>\n",
       "    <tr>\n",
       "      <th>Sensor 4</th>\n",
       "      <td>0.918957</td>\n",
       "      <td>0.921139</td>\n",
       "      <td>0.480065</td>\n",
       "      <td>1.000000</td>\n",
       "    </tr>\n",
       "  </tbody>\n",
       "</table>\n",
       "</div>"
      ],
      "text/plain": [
       "          Sensor 1  Sensor 2  Sensor 3  Sensor 4\n",
       "Sensor 1  1.000000  0.992006  0.424558  0.918957\n",
       "Sensor 2  0.992006  1.000000  0.460436  0.921139\n",
       "Sensor 3  0.424558  0.460436  1.000000  0.480065\n",
       "Sensor 4  0.918957  0.921139  0.480065  1.000000"
      ]
     },
     "execution_count": 10,
     "metadata": {},
     "output_type": "execute_result"
    }
   ],
   "source": [
    "corr=data.corr()\n",
    "corr"
   ]
  },
  {
   "cell_type": "code",
   "execution_count": 11,
   "metadata": {},
   "outputs": [
    {
     "data": {
      "text/plain": [
       "array(['High Speed Normal', 'Medium Speed Normal',\n",
       "       'Medium Speed High Vibration', 'Low Speed High Vibration',\n",
       "       'Low Speed Normal', 'High Speed High Current',\n",
       "       'High Speed High Vibration'], dtype=object)"
      ]
     },
     "execution_count": 11,
     "metadata": {},
     "output_type": "execute_result"
    }
   ],
   "source": [
    "classes=data['Label'].unique()\n",
    "classes"
   ]
  },
  {
   "cell_type": "code",
   "execution_count": 12,
   "metadata": {},
   "outputs": [],
   "source": [
    "data=data.drop(['Timestamp'], axis=1)"
   ]
  },
  {
   "cell_type": "code",
   "execution_count": 13,
   "metadata": {},
   "outputs": [
    {
     "data": {
      "text/plain": [
       "(5, 5)"
      ]
     },
     "execution_count": 13,
     "metadata": {},
     "output_type": "execute_result"
    }
   ],
   "source": [
    "h_s_n=data[data.Label=='High Speed Normal']\n",
    "m_s_n=data[data.Label=='Medium Speed Normal']\n",
    "m_s_h_v=data[data.Label=='Medium Speed High Vibration']\n",
    "l_s_h_v=data[data.Label=='Low Speed High Vibration']\n",
    "l_s_n=data[data.Label=='Low Speed Normal']\n",
    "h_s_h_c=data[data.Label=='High Speed High Current']\n",
    "h_s_h_v=data[data.Label=='High Speed High Vibration']\n",
    "m_s_h_v.shape"
   ]
  },
  {
   "cell_type": "markdown",
   "metadata": {},
   "source": [
    "# Kmean Clustering\n"
   ]
  },
  {
   "cell_type": "code",
   "execution_count": 14,
   "metadata": {},
   "outputs": [
    {
     "name": "stdout",
     "output_type": "stream",
     "text": [
      "[0.79349494 0.17942786]\n",
      "[[ 0.90274319  0.61192656]\n",
      " [ 0.94695975  0.63196488]\n",
      " [ 0.94764448  0.63063565]\n",
      " ...\n",
      " [-3.10429783  3.6781379 ]\n",
      " [-3.10464019  3.67880252]\n",
      " [-3.10429783  3.6781379 ]]\n"
     ]
    }
   ],
   "source": [
    "kmeandata=data.drop(['Label'], axis=1)\n",
    "from sklearn.preprocessing import StandardScaler\n",
    "std_data=StandardScaler().fit_transform(kmeandata)\n",
    "kmeandata=pd.DataFrame(std_data, columns=columns)\n",
    "from sklearn.decomposition import PCA\n",
    "from sklearn import decomposition\n",
    "pcaa = PCA(n_components=2)\n",
    "X = pcaa.fit_transform(kmeandata)\n",
    "print(pcaa.explained_variance_ratio_)\n",
    "print(X)"
   ]
  },
  {
   "cell_type": "code",
   "execution_count": 15,
   "metadata": {},
   "outputs": [
    {
     "name": "stdout",
     "output_type": "stream",
     "text": [
      "        Sensor 1  Sensor 2  Sensor 3  Sensor 4                Label\n",
      "0           2.79      2.78    1159.0       9.0    High Speed Normal\n",
      "1           2.84      2.78    1159.0       9.0    High Speed Normal\n",
      "2           2.82      2.80    1159.0       9.0    High Speed Normal\n",
      "3           2.81      2.80    1159.0       9.0    High Speed Normal\n",
      "4           2.82      2.76    1159.0       9.0    High Speed Normal\n",
      "...          ...       ...       ...       ...                  ...\n",
      "168692      2.06      1.18    1000.0       8.0  Medium Speed Normal\n",
      "168693      2.07      1.15    1001.0       8.0  Medium Speed Normal\n",
      "168694      2.06      1.18    1001.0       8.0  Medium Speed Normal\n",
      "168695      2.07      1.17    1001.0       8.0  Medium Speed Normal\n",
      "168696      2.06      1.18    1001.0       8.0  Medium Speed Normal\n",
      "\n",
      "[168697 rows x 5 columns]\n",
      "            Sensor 1       Sensor 2       Sensor 3       Sensor 4\n",
      "count  168697.000000  168697.000000  168697.000000  168697.000000\n",
      "mean        2.340096       2.348681    1168.297024       8.553074\n",
      "std         0.614607       0.596306      36.957278       1.234726\n",
      "min         1.470000       1.130000     605.000000       0.000000\n",
      "25%         1.560000       1.610000    1148.000000       7.000000\n",
      "50%         2.770000       2.780000    1159.000000       9.000000\n",
      "75%         2.820000       2.820000    1209.000000      10.000000\n",
      "max         8.820000       3.790000    1261.000000      13.000000\n",
      "        Sensor 1  Sensor 2  Sensor 3  Sensor 4\n",
      "0       0.732022  0.723320 -0.251562  0.361965\n",
      "1       0.813375  0.723320 -0.251562  0.361965\n",
      "2       0.780833  0.756860 -0.251562  0.361965\n",
      "3       0.764563  0.756860 -0.251562  0.361965\n",
      "4       0.780833  0.689780 -0.251562  0.361965\n",
      "...          ...       ...       ...       ...\n",
      "168692 -0.455733 -1.959873 -4.553840 -0.447934\n",
      "168693 -0.439463 -2.010183 -4.526781 -0.447934\n",
      "168694 -0.455733 -1.959873 -4.526781 -0.447934\n",
      "168695 -0.439463 -1.976643 -4.526781 -0.447934\n",
      "168696 -0.455733 -1.959873 -4.526781 -0.447934\n",
      "\n",
      "[168697 rows x 4 columns]\n"
     ]
    }
   ],
   "source": [
    "print(data)\n",
    "print(data.describe())\n",
    "print(kmeandata)"
   ]
  },
  {
   "cell_type": "code",
   "execution_count": 16,
   "metadata": {},
   "outputs": [
    {
     "name": "stdout",
     "output_type": "stream",
     "text": [
      "Sensor 1       2.340096\n",
      "Sensor 2       2.348681\n",
      "Sensor 3    1168.297024\n",
      "Sensor 4       8.553074\n",
      "dtype: float64\n"
     ]
    }
   ],
   "source": [
    "print(data.mean())"
   ]
  },
  {
   "cell_type": "markdown",
   "metadata": {},
   "source": [
    "## PCA-loadings:"
   ]
  },
  {
   "cell_type": "code",
   "execution_count": 17,
   "metadata": {},
   "outputs": [
    {
     "name": "stdout",
     "output_type": "stream",
     "text": [
      "[[ 0.54351435  0.24631304]\n",
      " [ 0.54774608  0.19934737]\n",
      " [ 0.34075225 -0.93772127]\n",
      " [ 0.53707941  0.14237042]]\n"
     ]
    }
   ],
   "source": [
    "loadings=pcaa.components_.T\n",
    "print(loadings)"
   ]
  },
  {
   "cell_type": "code",
   "execution_count": 18,
   "metadata": {},
   "outputs": [
    {
     "data": {
      "text/plain": [
       "array([ 0.90274319,  0.94695975,  0.94764448, ..., -3.10429783,\n",
       "       -3.10464019, -3.10429783])"
      ]
     },
     "execution_count": 18,
     "metadata": {},
     "output_type": "execute_result"
    }
   ],
   "source": [
    "from sklearn.cluster import KMeans\n",
    "k=7\n",
    "kmeans=KMeans(n_clusters=k)\n",
    "kmeans.fit(X)\n",
    "X[:,0]"
   ]
  },
  {
   "cell_type": "code",
   "execution_count": 19,
   "metadata": {},
   "outputs": [
    {
     "data": {
      "text/plain": [
       "<matplotlib.collections.PathCollection at 0x2001bb795c0>"
      ]
     },
     "execution_count": 19,
     "metadata": {},
     "output_type": "execute_result"
    },
    {
     "data": {
      "image/png": "[encoded data removed]",
      "text/plain": [
       "<Figure size 432x288 with 1 Axes>"
      ]
     },
     "metadata": {
      "needs_background": "light"
     },
     "output_type": "display_data"
    }
   ],
   "source": [
    "y_kmeans=kmeans.predict(X)\n",
    "\n",
    "centroids=kmeans.cluster_centers_\n",
    "#print(centroids)\n",
    "#print(X[43388],X[43386],X[43389],X[77358])\n",
    "#above are hshc \n",
    "plt.scatter(X[:,0],X[:,1],c=kmeans.labels_,cmap='brg')"
   ]
  },
  {
   "cell_type": "code",
   "execution_count": 20,
   "metadata": {},
   "outputs": [
    {
     "name": "stdout",
     "output_type": "stream",
     "text": [
      "656516.6342887784\n",
      "137809.75139142273\n",
      "71687.40444212996\n",
      "39125.96040875769\n",
      "23643.550842157314\n",
      "13393.454867487091\n",
      "9903.134311818625\n",
      "7726.6119162271625\n",
      "5835.882536200238\n"
     ]
    }
   ],
   "source": [
    "SSE = []\n",
    "index = range(1,10)\n",
    "for i in index:\n",
    "    kmeans = KMeans(n_clusters=i, random_state=42)\n",
    "    kmeans.fit(X)\n",
    "    SSE.append(kmeans.inertia_)\n",
    "    print(kmeans.inertia_)"
   ]
  },
  {
   "cell_type": "code",
   "execution_count": 21,
   "metadata": {},
   "outputs": [
    {
     "data": {
      "text/plain": [
       "Text(0, 0.5, 'SEE')"
      ]
     },
     "execution_count": 21,
     "metadata": {},
     "output_type": "execute_result"
    },
    {
     "data": {
      "image/png": "[encoded data removed]",
      "text/plain": [
       "<Figure size 432x288 with 1 Axes>"
      ]
     },
     "metadata": {
      "needs_background": "light"
     },
     "output_type": "display_data"
    }
   ],
   "source": [
    "plt.plot(index, SSE)\n",
    "plt.xlabel('K')\n",
    "plt.ylabel('SEE')"
   ]
  },
  {
   "cell_type": "code",
   "execution_count": 22,
   "metadata": {},
   "outputs": [
    {
     "data": {
      "image/png": "[encoded data removed]",
      "text/plain": [
       "<Figure size 432x288 with 1 Axes>"
      ]
     },
     "metadata": {
      "needs_background": "light"
     },
     "output_type": "display_data"
    }
   ],
   "source": [
    "%matplotlib inline \n",
    "import matplotlib.pyplot as plt\n",
    "plt.scatter(X[y_kmeans==0, 0], X[y_kmeans==0, 1], s=100, c='red', label ='Cluster 1')\n",
    "plt.scatter(X[y_kmeans==1, 0], X[y_kmeans==1, 1], s=100, c='blue', label ='Cluster 2')\n",
    "plt.scatter(X[y_kmeans==2, 0], X[y_kmeans==2, 1], s=100, c='green', label ='Cluster 3')\n",
    "plt.scatter(X[y_kmeans==3, 0], X[y_kmeans==3, 1], s=100, c='cyan', label ='Cluster 4')\n",
    "plt.scatter(X[y_kmeans==4, 0], X[y_kmeans==4, 1], s=100, c='magenta', label ='Cluster 5')\n",
    "plt.scatter(X[y_kmeans==5, 0], X[y_kmeans==5, 1], s=100, c='black', label ='Cluster 6')\n",
    "plt.scatter(X[y_kmeans==6, 0], X[y_kmeans==6, 1], s=100, c='grey', label ='Cluster 7')\n",
    "plt.scatter(centroids[:, 0], centroids[:, 1], s=20, c='yellow', label = 'Centroids')\n",
    "plt.title('Clusters of operation modes')\n",
    "#plt.scatter(X[50297][0], X[50297][1], s=50, c='brown', label ='Cluster 1')\n",
    "\n",
    "plt.show()\n"
   ]
  },
  {
   "cell_type": "code",
   "execution_count": 23,
   "metadata": {},
   "outputs": [
    {
     "data": {
      "text/plain": [
       "array([[ 1.44705692,  0.77445926],\n",
       "       [-2.18689986, -0.20404053],\n",
       "       [ 1.62268326, -0.60093036],\n",
       "       [-2.24804402, 14.83259245],\n",
       "       [ 0.96685843,  0.6519484 ],\n",
       "       [-2.39459547,  3.83291676],\n",
       "       [ 2.13471268, -1.87156035]])"
      ]
     },
     "execution_count": 23,
     "metadata": {},
     "output_type": "execute_result"
    }
   ],
   "source": [
    "centroids\n"
   ]
  },
  {
   "cell_type": "code",
   "execution_count": 24,
   "metadata": {},
   "outputs": [
    {
     "name": "stdout",
     "output_type": "stream",
     "text": [
      "[[    0 24619]\n",
      " [    1 64273]\n",
      " [    2 38334]\n",
      " [    3   142]\n",
      " [    4 33667]\n",
      " [    5  1292]\n",
      " [    6  6370]]\n"
     ]
    }
   ],
   "source": [
    "unique,count=np.unique(y_kmeans, return_counts=True)\n",
    "print(np.asarray((unique, count)).T)"
   ]
  },
  {
   "cell_type": "code",
   "execution_count": 25,
   "metadata": {},
   "outputs": [],
   "source": [
    "reduced_data=pd.DataFrame(X, columns=['X','Y'])\n",
    "reduced_data['cluster']=y_kmeans\n",
    "cluster={}\n",
    "cluster[0]=reduced_data[reduced_data.cluster==0].values\n",
    "cluster[1]=reduced_data[reduced_data.cluster==1].values\n",
    "cluster[2]=reduced_data[reduced_data.cluster==2].values\n",
    "cluster[3]=reduced_data[reduced_data.cluster==3].values\n",
    "cluster[4]=reduced_data[reduced_data.cluster==4].values\n",
    "cluster[5]=reduced_data[reduced_data.cluster==5].values\n",
    "cluster[6]=reduced_data[reduced_data.cluster==6].values\n",
    "\n",
    "\n"
   ]
  },
  {
   "cell_type": "code",
   "execution_count": 26,
   "metadata": {},
   "outputs": [],
   "source": [
    "import math\n",
    "def maxdistpoint(k,df):\n",
    "    maxx=0\n",
    "    #print(df)\n",
    "    for i in range(len(df)):\n",
    "        dist=math.sqrt(pow(centroids[k][0]-df[i][0],2)+pow(centroids[k][1]-df[i][1],2))\n",
    "        maxx=max(maxx,dist)\n",
    "        \n",
    "    return maxx\n"
   ]
  },
  {
   "cell_type": "code",
   "execution_count": 27,
   "metadata": {},
   "outputs": [
    {
     "name": "stdout",
     "output_type": "stream",
     "text": [
      "For centroid : [1.44705692 0.77445926]\n",
      "5.8616162127115485\n",
      "For centroid : [-2.18689986 -0.20404053]\n",
      "2.7881757337247635\n",
      "For centroid : [ 1.62268326 -0.60093036]\n",
      "0.9567557137965471\n",
      "For centroid : [-2.24804402 14.83259245]\n",
      "5.140272242364168\n",
      "For centroid : [0.96685843 0.6519484 ]\n",
      "1.9851423207534542\n",
      "For centroid : [-2.39459547  3.83291676]\n",
      "4.318948685224404\n",
      "For centroid : [ 2.13471268 -1.87156035]\n",
      "1.664042838514107\n"
     ]
    }
   ],
   "source": [
    "radius=[]\n",
    "for i in range(0,7):\n",
    "    print(\"For centroid :\",centroids[i])\n",
    "    maxx=maxdistpoint(i,cluster[i])\n",
    "    radius.append(maxx)\n",
    "    print(maxx)\n",
    "    \n",
    "    \n",
    "\n",
    "\n"
   ]
  },
  {
   "cell_type": "code",
   "execution_count": 28,
   "metadata": {},
   "outputs": [
    {
     "name": "stdout",
     "output_type": "stream",
     "text": [
      "5.8616162127115485\n",
      "2.7881757337247635\n",
      "0.9567557137965471\n",
      "5.140272242364168\n",
      "1.9851423207534542\n",
      "4.318948685224404\n",
      "1.664042838514107\n"
     ]
    }
   ],
   "source": [
    "for i in range(0,7):\n",
    "    print(radius[i])"
   ]
  },
  {
   "cell_type": "code",
   "execution_count": 29,
   "metadata": {},
   "outputs": [
    {
     "data": {
      "image/png": "[encoded data removed]",
      "text/plain": [
       "<Figure size 720x576 with 1 Axes>"
      ]
     },
     "metadata": {
      "needs_background": "light"
     },
     "output_type": "display_data"
    }
   ],
   "source": [
    "color=['red','green','blue', 'orange','cyan', 'violet', 'purple']\n",
    "%matplotlib inline \n",
    "import matplotlib.pyplot as plt\n",
    "plt.rcParams[\"figure.figsize\"]=(10,8)\n",
    "fig, ax = plt.subplots()\n",
    "    \n",
    "    \n",
    "\n",
    "\n",
    "plt.xlim([-8,8])\n",
    "plt.ylim([-6,22])\n",
    "plt.scatter(X[y_kmeans==0, 0], X[y_kmeans==0, 1], s=100, c='red', label ='Cluster 1')\n",
    "plt.scatter(X[y_kmeans==1, 0], X[y_kmeans==1, 1], s=100, c='blue', label ='Cluster 2')\n",
    "plt.scatter(X[y_kmeans==2, 0], X[y_kmeans==2, 1], s=100, c='green', label ='Cluster 3')\n",
    "plt.scatter(X[y_kmeans==3, 0], X[y_kmeans==3, 1], s=100, c='cyan', label ='Cluster 4')\n",
    "plt.scatter(X[y_kmeans==4, 0], X[y_kmeans==4, 1], s=100, c='magenta', label ='Cluster 5')\n",
    "plt.scatter(X[y_kmeans==5, 0], X[y_kmeans==5, 1], s=100, c='black', label ='Cluster 6')\n",
    "plt.scatter(X[y_kmeans==6, 0], X[y_kmeans==6, 1], s=100, c='grey', label ='Cluster 7')\n",
    "plt.scatter(centroids[:, 0], centroids[:, 1], s=20, c='yellow', label = 'Centroids')\n",
    "\n",
    "for i in range(0,7):\n",
    "    circle1 = plt.Circle((centroids[i][0], centroids[i][1]), radius[i] , color=color[i],fill= False)\n",
    "    ax.add_artist(circle1)\n",
    "plt.title('Clusters of operation modes')\n",
    "\n",
    "#plt.scatter(X[50297][0], X[50297][1], s=50, c='brown', label ='Cluster 1')\n",
    "\n",
    "plt.show()"
   ]
  },
  {
   "cell_type": "code",
   "execution_count": 30,
   "metadata": {},
   "outputs": [
    {
     "name": "stdout",
     "output_type": "stream",
     "text": [
      "[7, 0, 3, 6, 0, 0, 0, 0, 6, 5, 2, 0, 7, 7, 6, 7, 7, 6, 8, 3]\n",
      "[1, 1, 1, 2, 4, 0, 2, 2, 4, 3, 3, 2, 3, 3, 0, 2, 4, 1, 4, 4]\n",
      "[608, 1151, 1077, 693, 1169, 576, 764, 586, 1241, 605, 1119, 1121, 591, 625, 764, 620, 874, 682, 953, 869]\n",
      "[2, 5, 12, 8, 2, 0, 9, 0, 2, 12, 8, 6, 9, 0, 5, 14, 0, 1, 14, 6]\n"
     ]
    }
   ],
   "source": [
    "import random\n",
    "#print (random.randrange(14.5,100))\n",
    "sensor1_test=[]\n",
    "sensor2_test=[]\n",
    "sensor3_test=[]\n",
    "sensor4_test=[]\n",
    "for i in range(0,20):\n",
    "    sens1=random.randrange(0,10)\n",
    "    sensor1_test.append(sens1)\n",
    "    sens2=random.randrange(0,5)\n",
    "    sensor2_test.append(sens2)\n",
    "    sens3=random.randrange(531,1334)\n",
    "    sensor3_test.append(sens3)\n",
    "    sens4=random.randrange(0,15)\n",
    "    sensor4_test.append(sens4)\n",
    "    \n",
    "print(sensor1_test)\n",
    "print(sensor2_test)\n",
    "print(sensor3_test)\n",
    "print(sensor4_test)"
   ]
  },
  {
   "cell_type": "code",
   "execution_count": 31,
   "metadata": {},
   "outputs": [
    {
     "data": {
      "text/html": [
       "<div>\n",
       "<style scoped>\n",
       "    .dataframe tbody tr th:only-of-type {\n",
       "        vertical-align: middle;\n",
       "    }\n",
       "\n",
       "    .dataframe tbody tr th {\n",
       "        vertical-align: top;\n",
       "    }\n",
       "\n",
       "    .dataframe thead th {\n",
       "        text-align: right;\n",
       "    }\n",
       "</style>\n",
       "<table border=\"1\" class=\"dataframe\">\n",
       "  <thead>\n",
       "    <tr style=\"text-align: right;\">\n",
       "      <th></th>\n",
       "      <th>sensor1</th>\n",
       "      <th>sensor2</th>\n",
       "      <th>sensor3</th>\n",
       "      <th>sensor4</th>\n",
       "    </tr>\n",
       "  </thead>\n",
       "  <tbody>\n",
       "    <tr>\n",
       "      <th>0</th>\n",
       "      <td>7</td>\n",
       "      <td>1</td>\n",
       "      <td>608</td>\n",
       "      <td>2</td>\n",
       "    </tr>\n",
       "    <tr>\n",
       "      <th>1</th>\n",
       "      <td>0</td>\n",
       "      <td>1</td>\n",
       "      <td>1151</td>\n",
       "      <td>5</td>\n",
       "    </tr>\n",
       "    <tr>\n",
       "      <th>2</th>\n",
       "      <td>3</td>\n",
       "      <td>1</td>\n",
       "      <td>1077</td>\n",
       "      <td>12</td>\n",
       "    </tr>\n",
       "    <tr>\n",
       "      <th>3</th>\n",
       "      <td>6</td>\n",
       "      <td>2</td>\n",
       "      <td>693</td>\n",
       "      <td>8</td>\n",
       "    </tr>\n",
       "    <tr>\n",
       "      <th>4</th>\n",
       "      <td>0</td>\n",
       "      <td>4</td>\n",
       "      <td>1169</td>\n",
       "      <td>2</td>\n",
       "    </tr>\n",
       "    <tr>\n",
       "      <th>5</th>\n",
       "      <td>0</td>\n",
       "      <td>0</td>\n",
       "      <td>576</td>\n",
       "      <td>0</td>\n",
       "    </tr>\n",
       "    <tr>\n",
       "      <th>6</th>\n",
       "      <td>0</td>\n",
       "      <td>2</td>\n",
       "      <td>764</td>\n",
       "      <td>9</td>\n",
       "    </tr>\n",
       "    <tr>\n",
       "      <th>7</th>\n",
       "      <td>0</td>\n",
       "      <td>2</td>\n",
       "      <td>586</td>\n",
       "      <td>0</td>\n",
       "    </tr>\n",
       "    <tr>\n",
       "      <th>8</th>\n",
       "      <td>6</td>\n",
       "      <td>4</td>\n",
       "      <td>1241</td>\n",
       "      <td>2</td>\n",
       "    </tr>\n",
       "    <tr>\n",
       "      <th>9</th>\n",
       "      <td>5</td>\n",
       "      <td>3</td>\n",
       "      <td>605</td>\n",
       "      <td>12</td>\n",
       "    </tr>\n",
       "    <tr>\n",
       "      <th>10</th>\n",
       "      <td>2</td>\n",
       "      <td>3</td>\n",
       "      <td>1119</td>\n",
       "      <td>8</td>\n",
       "    </tr>\n",
       "    <tr>\n",
       "      <th>11</th>\n",
       "      <td>0</td>\n",
       "      <td>2</td>\n",
       "      <td>1121</td>\n",
       "      <td>6</td>\n",
       "    </tr>\n",
       "    <tr>\n",
       "      <th>12</th>\n",
       "      <td>7</td>\n",
       "      <td>3</td>\n",
       "      <td>591</td>\n",
       "      <td>9</td>\n",
       "    </tr>\n",
       "    <tr>\n",
       "      <th>13</th>\n",
       "      <td>7</td>\n",
       "      <td>3</td>\n",
       "      <td>625</td>\n",
       "      <td>0</td>\n",
       "    </tr>\n",
       "    <tr>\n",
       "      <th>14</th>\n",
       "      <td>6</td>\n",
       "      <td>0</td>\n",
       "      <td>764</td>\n",
       "      <td>5</td>\n",
       "    </tr>\n",
       "    <tr>\n",
       "      <th>15</th>\n",
       "      <td>7</td>\n",
       "      <td>2</td>\n",
       "      <td>620</td>\n",
       "      <td>14</td>\n",
       "    </tr>\n",
       "    <tr>\n",
       "      <th>16</th>\n",
       "      <td>7</td>\n",
       "      <td>4</td>\n",
       "      <td>874</td>\n",
       "      <td>0</td>\n",
       "    </tr>\n",
       "    <tr>\n",
       "      <th>17</th>\n",
       "      <td>6</td>\n",
       "      <td>1</td>\n",
       "      <td>682</td>\n",
       "      <td>1</td>\n",
       "    </tr>\n",
       "    <tr>\n",
       "      <th>18</th>\n",
       "      <td>8</td>\n",
       "      <td>4</td>\n",
       "      <td>953</td>\n",
       "      <td>14</td>\n",
       "    </tr>\n",
       "    <tr>\n",
       "      <th>19</th>\n",
       "      <td>3</td>\n",
       "      <td>4</td>\n",
       "      <td>869</td>\n",
       "      <td>6</td>\n",
       "    </tr>\n",
       "  </tbody>\n",
       "</table>\n",
       "</div>"
      ],
      "text/plain": [
       "    sensor1  sensor2  sensor3  sensor4\n",
       "0         7        1      608        2\n",
       "1         0        1     1151        5\n",
       "2         3        1     1077       12\n",
       "3         6        2      693        8\n",
       "4         0        4     1169        2\n",
       "5         0        0      576        0\n",
       "6         0        2      764        9\n",
       "7         0        2      586        0\n",
       "8         6        4     1241        2\n",
       "9         5        3      605       12\n",
       "10        2        3     1119        8\n",
       "11        0        2     1121        6\n",
       "12        7        3      591        9\n",
       "13        7        3      625        0\n",
       "14        6        0      764        5\n",
       "15        7        2      620       14\n",
       "16        7        4      874        0\n",
       "17        6        1      682        1\n",
       "18        8        4      953       14\n",
       "19        3        4      869        6"
      ]
     },
     "execution_count": 31,
     "metadata": {},
     "output_type": "execute_result"
    }
   ],
   "source": [
    "dataframe=pd.DataFrame({'sensor1':sensor1_test,'sensor2':sensor2_test,'sensor3':sensor3_test,\"sensor4\":sensor4_test})\n",
    "dataframe.head(20)"
   ]
  },
  {
   "cell_type": "code",
   "execution_count": 36,
   "metadata": {},
   "outputs": [
    {
     "name": "stdout",
     "output_type": "stream",
     "text": [
      "   sensor1  sensor2  sensor3  sensor4\n",
      "1        0        1     1151        5\n",
      "2        3        1     1077       12\n",
      "3        6        2      693        8\n",
      "4        0        4     1169        2\n"
     ]
    }
   ],
   "source": [
    "print(dataframe.iloc[1:5])"
   ]
  },
  {
   "cell_type": "code",
   "execution_count": 37,
   "metadata": {},
   "outputs": [],
   "source": [
    "dataframe.to_excel (r'C:\\Users\\Dell\\Desktop\\export_dataframe.xlsx', index = False, header=True)"
   ]
  },
  {
   "cell_type": "code",
   "execution_count": 46,
   "metadata": {},
   "outputs": [
    {
     "data": {
      "text/plain": [
       "(71887, 4)"
      ]
     },
     "execution_count": 46,
     "metadata": {},
     "output_type": "execute_result"
    }
   ],
   "source": [
    "from sklearn.model_selection import train_test_split\n",
    "r_hsn=h_s_n.values\n",
    "X_h_s_n=h_s_n[['Sensor 1', 'Sensor 2', 'Sensor 3', 'Sensor 4']]\n",
    "y_h_s_n=h_s_n['Label']\n",
    "X_h_s_n.shape, y_h_s_n.shape\n",
    "#h_s_n.describe()\n",
    "#h_s_n.shape\n",
    "X_hsn_train, X_hsn_test, y_hsn_train, y_hsn_test = train_test_split(X_h_s_n, y_h_s_n, train_size=0.7, random_state = 0)\n",
    "X_hsn_train.shape"
   ]
  },
  {
   "cell_type": "code",
   "execution_count": 47,
   "metadata": {},
   "outputs": [
    {
     "data": {
      "text/html": [
       "<div>\n",
       "<style scoped>\n",
       "    .dataframe tbody tr th:only-of-type {\n",
       "        vertical-align: middle;\n",
       "    }\n",
       "\n",
       "    .dataframe tbody tr th {\n",
       "        vertical-align: top;\n",
       "    }\n",
       "\n",
       "    .dataframe thead th {\n",
       "        text-align: right;\n",
       "    }\n",
       "</style>\n",
       "<table border=\"1\" class=\"dataframe\">\n",
       "  <thead>\n",
       "    <tr style=\"text-align: right;\">\n",
       "      <th></th>\n",
       "      <th>Sensor 1</th>\n",
       "      <th>Sensor 2</th>\n",
       "      <th>Sensor 3</th>\n",
       "      <th>Sensor 4</th>\n",
       "    </tr>\n",
       "  </thead>\n",
       "  <tbody>\n",
       "    <tr>\n",
       "      <th>43388</th>\n",
       "      <td>2.76</td>\n",
       "      <td>2.87</td>\n",
       "      <td>1260.0</td>\n",
       "      <td>12.0</td>\n",
       "    </tr>\n",
       "    <tr>\n",
       "      <th>43386</th>\n",
       "      <td>2.76</td>\n",
       "      <td>2.89</td>\n",
       "      <td>1260.0</td>\n",
       "      <td>13.0</td>\n",
       "    </tr>\n",
       "  </tbody>\n",
       "</table>\n",
       "</div>"
      ],
      "text/plain": [
       "       Sensor 1  Sensor 2  Sensor 3  Sensor 4\n",
       "43388      2.76      2.87    1260.0      12.0\n",
       "43386      2.76      2.89    1260.0      13.0"
      ]
     },
     "execution_count": 47,
     "metadata": {},
     "output_type": "execute_result"
    }
   ],
   "source": [
    "X_h_s_h_c=h_s_h_c[['Sensor 1', 'Sensor 2', 'Sensor 3', 'Sensor 4']]\n",
    "y_h_s_h_c=h_s_h_c['Label']\n",
    "X_h_s_h_c.shape, y_h_s_h_c.shape\n",
    "X_hshc_train, X_hshc_test, y_hshc_train, y_hshc_test = train_test_split(X_h_s_h_c, y_h_s_h_c, train_size=0.7, random_state = 0)\n",
    "X_hshc_train.head()"
   ]
  },
  {
   "cell_type": "code",
   "execution_count": 48,
   "metadata": {},
   "outputs": [
    {
     "data": {
      "text/html": [
       "<div>\n",
       "<style scoped>\n",
       "    .dataframe tbody tr th:only-of-type {\n",
       "        vertical-align: middle;\n",
       "    }\n",
       "\n",
       "    .dataframe tbody tr th {\n",
       "        vertical-align: top;\n",
       "    }\n",
       "\n",
       "    .dataframe thead th {\n",
       "        text-align: right;\n",
       "    }\n",
       "</style>\n",
       "<table border=\"1\" class=\"dataframe\">\n",
       "  <thead>\n",
       "    <tr style=\"text-align: right;\">\n",
       "      <th></th>\n",
       "      <th>Sensor 1</th>\n",
       "      <th>Sensor 2</th>\n",
       "      <th>Sensor 3</th>\n",
       "      <th>Sensor 4</th>\n",
       "    </tr>\n",
       "  </thead>\n",
       "  <tbody>\n",
       "    <tr>\n",
       "      <th>43317</th>\n",
       "      <td>3.50</td>\n",
       "      <td>3.63</td>\n",
       "      <td>605.0</td>\n",
       "      <td>10.0</td>\n",
       "    </tr>\n",
       "    <tr>\n",
       "      <th>48884</th>\n",
       "      <td>3.44</td>\n",
       "      <td>3.56</td>\n",
       "      <td>605.0</td>\n",
       "      <td>10.0</td>\n",
       "    </tr>\n",
       "    <tr>\n",
       "      <th>64027</th>\n",
       "      <td>3.79</td>\n",
       "      <td>3.66</td>\n",
       "      <td>605.0</td>\n",
       "      <td>9.0</td>\n",
       "    </tr>\n",
       "    <tr>\n",
       "      <th>62747</th>\n",
       "      <td>3.80</td>\n",
       "      <td>3.71</td>\n",
       "      <td>605.0</td>\n",
       "      <td>10.0</td>\n",
       "    </tr>\n",
       "    <tr>\n",
       "      <th>64037</th>\n",
       "      <td>3.81</td>\n",
       "      <td>3.74</td>\n",
       "      <td>605.0</td>\n",
       "      <td>10.0</td>\n",
       "    </tr>\n",
       "  </tbody>\n",
       "</table>\n",
       "</div>"
      ],
      "text/plain": [
       "       Sensor 1  Sensor 2  Sensor 3  Sensor 4\n",
       "43317      3.50      3.63     605.0      10.0\n",
       "48884      3.44      3.56     605.0      10.0\n",
       "64027      3.79      3.66     605.0       9.0\n",
       "62747      3.80      3.71     605.0      10.0\n",
       "64037      3.81      3.74     605.0      10.0"
      ]
     },
     "execution_count": 48,
     "metadata": {},
     "output_type": "execute_result"
    }
   ],
   "source": [
    "X_l_s_h_v=l_s_h_v[['Sensor 1', 'Sensor 2', 'Sensor 3', 'Sensor 4']]\n",
    "y_l_s_h_v=l_s_h_v['Label']\n",
    "X_l_s_h_v.shape, y_l_s_h_v.shape\n",
    "X_lshv_train, X_lshv_test, y_lshv_train, y_lshv_test = train_test_split(X_l_s_h_v, y_l_s_h_v, train_size=0.7, random_state = 0)\n",
    "X_lshv_train.head()"
   ]
  },
  {
   "cell_type": "code",
   "execution_count": 49,
   "metadata": {},
   "outputs": [],
   "source": [
    "X_l_s_n=l_s_n[['Sensor 1', 'Sensor 2', 'Sensor 3', 'Sensor 4']]\n",
    "y_l_s_n=l_s_n['Label']\n",
    "X_l_s_n.shape, y_l_s_n.shape\n",
    "X_lsn_train, X_lsn_test, y_lsn_train, y_lsn_test = train_test_split(X_l_s_n, y_l_s_n, train_size=0.7, random_state = 0)"
   ]
  },
  {
   "cell_type": "code",
   "execution_count": 50,
   "metadata": {},
   "outputs": [],
   "source": [
    "X_m_s_h_v=m_s_h_v[['Sensor 1', 'Sensor 2', 'Sensor 3', 'Sensor 4']]\n",
    "y_m_s_h_v=m_s_h_v['Label']\n",
    "X_m_s_h_v.shape, y_m_s_h_v.shape\n",
    "X_mshv_train, X_mshv_test, y_mshv_train, y_mshv_test = train_test_split(X_m_s_h_v, y_m_s_h_v, train_size=0.7, random_state = 0)"
   ]
  },
  {
   "cell_type": "code",
   "execution_count": 51,
   "metadata": {},
   "outputs": [],
   "source": [
    "X_m_s_n=m_s_n[['Sensor 1', 'Sensor 2', 'Sensor 3', 'Sensor 4']]\n",
    "y_m_s_n=m_s_n['Label']\n",
    "X_m_s_n.shape, y_m_s_n.shape\n",
    "X_msn_train, X_msn_test, y_msn_train, y_msn_test = train_test_split(X_m_s_n, y_m_s_n, train_size=0.7, random_state = 0)"
   ]
  },
  {
   "cell_type": "code",
   "execution_count": 52,
   "metadata": {},
   "outputs": [
    {
     "data": {
      "text/plain": [
       "(2, 4)"
      ]
     },
     "execution_count": 52,
     "metadata": {},
     "output_type": "execute_result"
    }
   ],
   "source": [
    "X_h_s_h_v=h_s_h_v[['Sensor 1', 'Sensor 2', 'Sensor 3', 'Sensor 4']]\n",
    "y_h_s_h_v=h_s_h_v['Label']\n",
    "X_h_s_h_v.shape"
   ]
  },
  {
   "cell_type": "code",
   "execution_count": 53,
   "metadata": {},
   "outputs": [
    {
     "data": {
      "text/plain": [
       "(118086, 4)"
      ]
     },
     "execution_count": 53,
     "metadata": {},
     "output_type": "execute_result"
    }
   ],
   "source": [
    "#concatenated = pandas.concat([df1, df2]) \n",
    "#frames = [df1, df2, df3]\n",
    "#result = pd.concat(frames)\n",
    "X_train_frame=[X_hsn_train,X_hshc_train,X_lshv_train,X_lsn_train,X_mshv_train,X_msn_train, X_h_s_h_v] \n",
    "X_traint=pd.concat(X_train_frame, ignore_index=True)\n",
    "#df = X_hsn_train.append(X_hshc_train)\n",
    "X_traint.shape"
   ]
  },
  {
   "cell_type": "code",
   "execution_count": 54,
   "metadata": {},
   "outputs": [
    {
     "data": {
      "text/plain": [
       "(118086,)"
      ]
     },
     "execution_count": 54,
     "metadata": {},
     "output_type": "execute_result"
    }
   ],
   "source": [
    "y_train_frame=[y_hsn_train,y_hshc_train,y_lshv_train,y_lsn_train,y_mshv_train,y_msn_train, y_h_s_h_v] \n",
    "y_traint=pd.concat(y_train_frame, ignore_index=True)\n",
    "y_traint.shape"
   ]
  },
  {
   "cell_type": "code",
   "execution_count": 55,
   "metadata": {},
   "outputs": [
    {
     "data": {
      "text/plain": [
       "(50613, 4)"
      ]
     },
     "execution_count": 55,
     "metadata": {},
     "output_type": "execute_result"
    }
   ],
   "source": [
    "X_test_frame=[X_hsn_test,X_hshc_test,X_lshv_test,X_lsn_test,X_mshv_test,X_msn_test,X_h_s_h_v] \n",
    "X_testt=pd.concat(X_test_frame, ignore_index=True)\n",
    "X_testt.shape"
   ]
  },
  {
   "cell_type": "code",
   "execution_count": 56,
   "metadata": {},
   "outputs": [
    {
     "data": {
      "text/plain": [
       "(50613,)"
      ]
     },
     "execution_count": 56,
     "metadata": {},
     "output_type": "execute_result"
    }
   ],
   "source": [
    "y_test_frame=[y_hsn_test,y_hshc_test,y_lshv_test,y_lsn_test,y_mshv_test,y_msn_test,y_h_s_h_v] \n",
    "y_testt=pd.concat(y_test_frame, ignore_index=True)\n",
    "y_testt.shape"
   ]
  },
  {
   "cell_type": "markdown",
   "metadata": {},
   "source": [
    "# Label Encoding"
   ]
  },
  {
   "cell_type": "code",
   "execution_count": 57,
   "metadata": {},
   "outputs": [
    {
     "name": "stdout",
     "output_type": "stream",
     "text": [
      "after label encoding:  [2 2 2 ... 6 1 1]\n",
      "Number of numeric features: 4\n"
     ]
    }
   ],
   "source": [
    "from sklearn import preprocessing\n",
    "encoder = preprocessing.LabelEncoder()\n",
    "\n",
    "# encoding train labels \n",
    "encoder.fit(y_traint)\n",
    "y_train = encoder.transform(y_traint)\n",
    "\n",
    "# encoding test labels \n",
    "encoder.fit(y_testt)\n",
    "y_test = encoder.transform(y_testt)\n",
    "print(\"after label encoding: \",y_test)\n",
    "#Total Number of Continous and Categorical features in the training set\n",
    "num_cols = X_traint._get_numeric_data().columns\n",
    "print(\"Number of numeric features:\",num_cols.size)\n",
    "#list(set(X_train.columns) - set(num_cols))\n",
    "\n",
    "\n",
    "names_of_predictors = list(X_traint.columns.values)\n",
    "\n",
    "# Scaling the Train and Test feature set \n",
    "from sklearn.preprocessing import StandardScaler\n",
    "scaler = StandardScaler()\n",
    "X_train_scaled = scaler.fit_transform(X_traint)\n",
    "X_test_scaled = scaler.transform(X_testt)"
   ]
  },
  {
   "cell_type": "code",
   "execution_count": 58,
   "metadata": {},
   "outputs": [],
   "source": [
    "from sklearn.model_selection import train_test_split,GridSearchCV\n",
    "from sklearn.metrics import accuracy_score\n",
    "#from sklearn import svm\n",
    "#from sklearn.multiclass import OneVsRestClassifier\n",
    "from sklearn.svm import SVC\n",
    "from sklearn.metrics import confusion_matrix, classification_report"
   ]
  },
  {
   "cell_type": "markdown",
   "metadata": {},
   "source": [
    "# Hyperparameter tuning using grid search and cross validation (cv=10)"
   ]
  },
  {
   "cell_type": "code",
   "execution_count": 59,
   "metadata": {},
   "outputs": [],
   "source": [
    "#Libraries to Build Ensemble Model : Random Forest Classifier \n",
    "# Create the parameter grid based on the results of random search \n",
    "params_grid = [{'kernel': ['rbf'], 'gamma': [1e-0, 1e-4],\n",
    "                     'C': [1, 10, 100, 1000]},\n",
    "                    {'kernel': ['linear'], 'C': [1, 10, 100, 1000]}]"
   ]
  },
  {
   "cell_type": "code",
   "execution_count": 60,
   "metadata": {},
   "outputs": [
    {
     "name": "stderr",
     "output_type": "stream",
     "text": [
      "C:\\Users\\Dell\\Anaconda31\\lib\\site-packages\\sklearn\\model_selection\\_split.py:667: UserWarning: The least populated class in y has only 2 members, which is less than n_splits=10.\n",
      "  % (min_groups, self.n_splits)), UserWarning)\n"
     ]
    },
    {
     "data": {
      "text/plain": [
       "GridSearchCV(cv=10, error_score=nan,\n",
       "             estimator=SVC(C=1.0, break_ties=False, cache_size=200,\n",
       "                           class_weight=None, coef0=0.0,\n",
       "                           decision_function_shape='ovr', degree=3,\n",
       "                           gamma='scale', kernel='rbf', max_iter=-1,\n",
       "                           probability=False, random_state=None, shrinking=True,\n",
       "                           tol=0.001, verbose=False),\n",
       "             iid='deprecated', n_jobs=None,\n",
       "             param_grid=[{'C': [1, 10, 100, 1000], 'gamma': [1.0, 0.0001],\n",
       "                          'kernel': ['rbf']},\n",
       "                         {'C': [1, 10, 100, 1000], 'kernel': ['linear']}],\n",
       "             pre_dispatch='2*n_jobs', refit=True, return_train_score=False,\n",
       "             scoring=None, verbose=0)"
      ]
     },
     "execution_count": 60,
     "metadata": {},
     "output_type": "execute_result"
    }
   ],
   "source": [
    "svm_model = GridSearchCV(SVC(), params_grid, cv=10)\n",
    "svm_model.fit(X_train_scaled, y_train)"
   ]
  },
  {
   "cell_type": "code",
   "execution_count": 61,
   "metadata": {},
   "outputs": [
    {
     "name": "stdout",
     "output_type": "stream",
     "text": [
      "Best score for training data: 0.9999830623306233 \n",
      "\n",
      "Best C: 1000 \n",
      "\n",
      "Best Kernel: linear \n",
      "\n",
      "Best Gamma: scale \n",
      "\n"
     ]
    }
   ],
   "source": [
    "# View the accuracy score\n",
    "print('Best score for training data:', svm_model.best_score_,\"\\n\") \n",
    "\n",
    "# View the best parameters for the model found using grid search\n",
    "print('Best C:',svm_model.best_estimator_.C,\"\\n\") \n",
    "print('Best Kernel:',svm_model.best_estimator_.kernel,\"\\n\")\n",
    "print('Best Gamma:',svm_model.best_estimator_.gamma,\"\\n\")\n",
    "\n",
    "final_model = svm_model.best_estimator_\n",
    "y_pred = final_model.predict(X_test_scaled)\n",
    "y_pred_label = list(encoder.inverse_transform(y_pred))"
   ]
  },
  {
   "cell_type": "code",
   "execution_count": 62,
   "metadata": {},
   "outputs": [
    {
     "name": "stdout",
     "output_type": "stream",
     "text": [
      "[[    2     0     0     0     0     0     0]\n",
      " [    0     2     0     0     0     0     0]\n",
      " [    0     0 30809     0     0     0     0]\n",
      " [    0     0     0    38     0     0     0]\n",
      " [    0     0     0     0    10     0     0]\n",
      " [    0     0     0     0     0     1     1]\n",
      " [    0     0     0     0     0     0 19750]]\n",
      "\n",
      "\n",
      "                             precision    recall  f1-score   support\n",
      "\n",
      "    High Speed High Current       1.00      1.00      1.00         2\n",
      "  High Speed High Vibration       1.00      1.00      1.00         2\n",
      "          High Speed Normal       1.00      1.00      1.00     30809\n",
      "   Low Speed High Vibration       1.00      1.00      1.00        38\n",
      "           Low Speed Normal       1.00      1.00      1.00        10\n",
      "Medium Speed High Vibration       1.00      0.50      0.67         2\n",
      "        Medium Speed Normal       1.00      1.00      1.00     19750\n",
      "\n",
      "                   accuracy                           1.00     50613\n",
      "                  macro avg       1.00      0.93      0.95     50613\n",
      "               weighted avg       1.00      1.00      1.00     50613\n",
      "\n",
      "Training set score for SVM: 1.000000\n",
      "Testing  set score for SVM: 0.999980\n"
     ]
    },
    {
     "data": {
      "text/plain": [
       "<bound method BaseSearchCV.score of GridSearchCV(cv=10, error_score=nan,\n",
       "             estimator=SVC(C=1.0, break_ties=False, cache_size=200,\n",
       "                           class_weight=None, coef0=0.0,\n",
       "                           decision_function_shape='ovr', degree=3,\n",
       "                           gamma='scale', kernel='rbf', max_iter=-1,\n",
       "                           probability=False, random_state=None, shrinking=True,\n",
       "                           tol=0.001, verbose=False),\n",
       "             iid='deprecated', n_jobs=None,\n",
       "             param_grid=[{'C': [1, 10, 100, 1000], 'gamma': [1.0, 0.0001],\n",
       "                          'kernel': ['rbf']},\n",
       "                         {'C': [1, 10, 100, 1000], 'kernel': ['linear']}],\n",
       "             pre_dispatch='2*n_jobs', refit=True, return_train_score=False,\n",
       "             scoring=None, verbose=0)>"
      ]
     },
     "execution_count": 62,
     "metadata": {},
     "output_type": "execute_result"
    }
   ],
   "source": [
    "# Making the Confusion Matrix\n",
    "#print(pd.crosstab(Y_test_label, Y_pred_label, rownames=['Actual Activity'], colnames=['Predicted Activity']))\n",
    "print(confusion_matrix(y_testt,y_pred_label))\n",
    "print(\"\\n\")\n",
    "print(classification_report(y_testt,y_pred_label))\n",
    "\n",
    "print(\"Training set score for SVM: %f\" % final_model.score(X_train_scaled , y_train))\n",
    "print(\"Testing  set score for SVM: %f\" % final_model.score(X_test_scaled  , y_test ))\n",
    "\n",
    "svm_model.score"
   ]
  },
  {
   "cell_type": "markdown",
   "metadata": {},
   "source": [
    "# Implenting different SVM kernels "
   ]
  },
  {
   "cell_type": "code",
   "execution_count": 63,
   "metadata": {},
   "outputs": [],
   "source": [
    "from sklearn.metrics import accuracy_score\n",
    "from sklearn import svm\n",
    "#from sklearn.multiclass import OneVsRestClassifier\n",
    "from sklearn.svm import SVC\n",
    "from sklearn.metrics import confusion_matrix, classification_report"
   ]
  },
  {
   "cell_type": "code",
   "execution_count": 64,
   "metadata": {},
   "outputs": [],
   "source": [
    "#X_train, X_test, y_train, y_test = train_test_split(X, y, train_size=0.7, random_state = 0)\n",
    "linear = svm.SVC(kernel='linear',C=1000).fit(X_train_scaled, y_train)\n",
    "\n",
    "rbf = svm.SVC(kernel='rbf', gamma=0.001, C=1, decision_function_shape='ovr').fit(X_train_scaled, y_train)\n",
    "\n",
    "poly = svm.SVC(kernel='poly', degree=3, C=1, decision_function_shape='ovr').fit(X_train_scaled, y_train)\n",
    "\n",
    "#sig = svm.SVC(kernel='sigmoid', C=1, decision_function_shape='ovo').fit(X_train, y_train)"
   ]
  },
  {
   "cell_type": "code",
   "execution_count": 65,
   "metadata": {},
   "outputs": [
    {
     "data": {
      "text/plain": [
       "array([2, 2, 2, ..., 6, 1, 1])"
      ]
     },
     "execution_count": 65,
     "metadata": {},
     "output_type": "execute_result"
    }
   ],
   "source": [
    "linear_pred = linear.predict(X_test_scaled)\n",
    "poly_pred = poly.predict(X_test_scaled)\n",
    "rbf_pred = rbf.predict(X_test_scaled)\n",
    "linear_pred"
   ]
  },
  {
   "cell_type": "code",
   "execution_count": 66,
   "metadata": {},
   "outputs": [
    {
     "name": "stdout",
     "output_type": "stream",
     "text": [
      "Accuracy Linear Kernel: 0.999980242230257\n",
      "Accuracy Polynomial Kernel: 0.9999407266907712\n",
      "Accuracy Radial Basis Kernel: 0.9980834963349338\n"
     ]
    }
   ],
   "source": [
    "#linear_pred = linear.predict(X_test)\n",
    "#poly_pred = poly.predict(X_test)\n",
    "#rbf_pred = rbf.predict(X_test)\n",
    "#sig_pred = sig.predict(X_test)\n",
    "linear_pred_label = list(encoder.inverse_transform(linear_pred))\n",
    "#print(linear_pred_label)\n",
    "accuracy_lin = accuracy_score(y_testt,linear_pred_label)\n",
    "\n",
    "poly_pred_label = list(encoder.inverse_transform(poly_pred))\n",
    "accuracy_poly = accuracy_score(y_testt, poly_pred_label)\n",
    "\n",
    "rbf_pred_label = list(encoder.inverse_transform(rbf_pred))\n",
    "accuracy_rbf = accuracy_score(y_testt,rbf_pred_label)\n",
    "\n",
    "\n",
    "#accuracy_sig = sig.score(X_test, y_test)\n",
    "\n",
    "print(\"Accuracy Linear Kernel:\", accuracy_lin)\n",
    "print(\"Accuracy Polynomial Kernel:\", accuracy_poly)\n",
    "print(\"Accuracy Radial Basis Kernel:\", accuracy_rbf)\n",
    "#print(\"Accuracy Sigmoid Kernel:\", accuracy_sig)"
   ]
  },
  {
   "cell_type": "code",
   "execution_count": 67,
   "metadata": {},
   "outputs": [
    {
     "name": "stdout",
     "output_type": "stream",
     "text": [
      "Confusion Martrix linear  [[    2     0     0     0     0     0     0]\n",
      " [    0     2     0     0     0     0     0]\n",
      " [    0     0 30809     0     0     0     0]\n",
      " [    0     0     0    38     0     0     0]\n",
      " [    0     0     0     0    10     0     0]\n",
      " [    0     0     0     0     0     1     1]\n",
      " [    0     0     0     0     0     0 19750]]\n",
      "Confusion Martrix poly  [[    1     0     1     0     0     0     0]\n",
      " [    0     2     0     0     0     0     0]\n",
      " [    0     0 30809     0     0     0     0]\n",
      " [    0     0     0    38     0     0     0]\n",
      " [    0     0     0     0    10     0     0]\n",
      " [    0     0     0     0     0     1     1]\n",
      " [    0     0     1     0     0     0 19749]]\n",
      "Confusion Martrix rbf [[    0     0     2     0     0     0     0]\n",
      " [    0     0     2     0     0     0     0]\n",
      " [    0     0 30809     0     0     0     0]\n",
      " [    0     0     0    38     0     0     0]\n",
      " [    0     0     0     0     5     0     5]\n",
      " [    0     0     0     0     0     0     2]\n",
      " [    0     0    86     0     0     0 19664]]\n"
     ]
    }
   ],
   "source": [
    "from sklearn.metrics import confusion_matrix \n",
    "results_lin = confusion_matrix(y_test,linear_pred)\n",
    "print(\"Confusion Martrix linear \",results_lin)\n",
    "results_poly = confusion_matrix(y_test,poly_pred)\n",
    "print(\"Confusion Martrix poly \",results_poly)\n",
    "results = confusion_matrix(y_test,rbf_pred)\n",
    "print(\"Confusion Martrix rbf\",results)"
   ]
  },
  {
   "cell_type": "code",
   "execution_count": 68,
   "metadata": {},
   "outputs": [
    {
     "name": "stdout",
     "output_type": "stream",
     "text": [
      "linear report               precision    recall  f1-score   support\n",
      "\n",
      "           0       1.00      1.00      1.00         2\n",
      "           1       1.00      1.00      1.00         2\n",
      "           2       1.00      1.00      1.00     30809\n",
      "           3       1.00      1.00      1.00        38\n",
      "           4       1.00      1.00      1.00        10\n",
      "           5       1.00      0.50      0.67         2\n",
      "           6       1.00      1.00      1.00     19750\n",
      "\n",
      "    accuracy                           1.00     50613\n",
      "   macro avg       1.00      0.93      0.95     50613\n",
      "weighted avg       1.00      1.00      1.00     50613\n",
      "\n",
      "poynomial kernel               precision    recall  f1-score   support\n",
      "\n",
      "           0       1.00      0.50      0.67         2\n",
      "           1       1.00      1.00      1.00         2\n",
      "           2       1.00      1.00      1.00     30809\n",
      "           3       1.00      1.00      1.00        38\n",
      "           4       1.00      1.00      1.00        10\n",
      "           5       1.00      0.50      0.67         2\n",
      "           6       1.00      1.00      1.00     19750\n",
      "\n",
      "    accuracy                           1.00     50613\n",
      "   macro avg       1.00      0.86      0.90     50613\n",
      "weighted avg       1.00      1.00      1.00     50613\n",
      "\n",
      "RBF kernel report               precision    recall  f1-score   support\n",
      "\n",
      "           0       0.00      0.00      0.00         2\n",
      "           1       0.00      0.00      0.00         2\n",
      "           2       1.00      1.00      1.00     30809\n",
      "           3       1.00      1.00      1.00        38\n",
      "           4       1.00      0.50      0.67        10\n",
      "           5       0.00      0.00      0.00         2\n",
      "           6       1.00      1.00      1.00     19750\n",
      "\n",
      "    accuracy                           1.00     50613\n",
      "   macro avg       0.57      0.50      0.52     50613\n",
      "weighted avg       1.00      1.00      1.00     50613\n",
      "\n"
     ]
    },
    {
     "name": "stderr",
     "output_type": "stream",
     "text": [
      "C:\\Users\\Dell\\Anaconda31\\lib\\site-packages\\sklearn\\metrics\\_classification.py:1272: UndefinedMetricWarning: Precision and F-score are ill-defined and being set to 0.0 in labels with no predicted samples. Use `zero_division` parameter to control this behavior.\n",
      "  _warn_prf(average, modifier, msg_start, len(result))\n"
     ]
    }
   ],
   "source": [
    "from sklearn.metrics import classification_report \n",
    "print(\"linear report\",classification_report(y_test, linear_pred)) \n",
    "print(\"poynomial kernel\",classification_report(y_test, poly_pred)) \n",
    "print(\"RBF kernel report\",classification_report(y_test, rbf_pred)) "
   ]
  },
  {
   "cell_type": "markdown",
   "metadata": {},
   "source": [
    "# Cross Validation ( k-fold )"
   ]
  },
  {
   "cell_type": "code",
   "execution_count": 69,
   "metadata": {},
   "outputs": [
    {
     "name": "stderr",
     "output_type": "stream",
     "text": [
      "C:\\Users\\Dell\\Anaconda31\\lib\\site-packages\\sklearn\\model_selection\\_split.py:667: UserWarning: The least populated class in y has only 4 members, which is less than n_splits=10.\n",
      "  % (min_groups, self.n_splits)), UserWarning)\n"
     ]
    },
    {
     "data": {
      "text/plain": [
       "((168699, 4), (168699,))"
      ]
     },
     "execution_count": 69,
     "metadata": {},
     "output_type": "execute_result"
    }
   ],
   "source": [
    "from sklearn.model_selection import cross_val_score\n",
    "X=pd.concat([X_traint,X_testt],ignore_index=True)\n",
    "y=pd.concat([y_traint,y_testt],ignore_index=True)\n",
    "score= cross_val_score(rbf,X,y,cv=10)\n",
    "X.shape,y.shape"
   ]
  },
  {
   "cell_type": "code",
   "execution_count": 70,
   "metadata": {},
   "outputs": [
    {
     "data": {
      "text/plain": [
       "array([0.99988145, 0.99994072, 1.        , 1.        , 0.99994072,\n",
       "       0.99994072, 0.99988145, 0.99982217, 0.99982217, 0.99988144])"
      ]
     },
     "execution_count": 70,
     "metadata": {},
     "output_type": "execute_result"
    }
   ],
   "source": [
    "score"
   ]
  },
  {
   "cell_type": "code",
   "execution_count": 71,
   "metadata": {},
   "outputs": [
    {
     "data": {
      "text/plain": [
       "0.9999110840630665"
      ]
     },
     "execution_count": 71,
     "metadata": {},
     "output_type": "execute_result"
    }
   ],
   "source": [
    "score.mean()"
   ]
  },
  {
   "cell_type": "markdown",
   "metadata": {},
   "source": [
    "# Stratified k fold Validation"
   ]
  },
  {
   "cell_type": "raw",
   "metadata": {},
   "source": [
    "from sklearn.model_selection import StratifiedKFold\n",
    "accuracy=[]\n",
    "skf= StratifiedKFold(n_splits=10, random_state=0)\n",
    "skf.get_n_splits(X,y)\n",
    "for train_indices, test_indices in skf.split(X,y):\n",
    "    print(\"Train:\", train_indices,\"Validation:\", test_indices)\n",
    "    X1_train, X1_test = X[train_indices], X[test_indices]\n",
    "    y1_train, y1_test = y[train_indices], y[test_indices]\n",
    "    \n",
    "    rbf.fit(X1_train,y1_train)\n",
    "    prediction=rbf.predict(X1_test)\n",
    "    scor=accuracy_score(prediction,y1_test)\n",
    "    accuracy.append(scor)\n",
    "    \n",
    "print(accuracy)    "
   ]
  },
  {
   "cell_type": "code",
   "execution_count": 72,
   "metadata": {},
   "outputs": [
    {
     "ename": "NameError",
     "evalue": "name 'accuracy' is not defined",
     "output_type": "error",
     "traceback": [
      "\u001b[1;31m---------------------------------------------------------------------------\u001b[0m",
      "\u001b[1;31mNameError\u001b[0m                                 Traceback (most recent call last)",
      "\u001b[1;32m<ipython-input-72-46416553a47f>\u001b[0m in \u001b[0;36m<module>\u001b[1;34m\u001b[0m\n\u001b[1;32m----> 1\u001b[1;33m \u001b[0mnp\u001b[0m\u001b[1;33m.\u001b[0m\u001b[0marray\u001b[0m\u001b[1;33m(\u001b[0m\u001b[0maccuracy\u001b[0m\u001b[1;33m)\u001b[0m\u001b[1;33m.\u001b[0m\u001b[0mmean\u001b[0m\u001b[1;33m(\u001b[0m\u001b[1;33m)\u001b[0m\u001b[1;33m\u001b[0m\u001b[1;33m\u001b[0m\u001b[0m\n\u001b[0m",
      "\u001b[1;31mNameError\u001b[0m: name 'accuracy' is not defined"
     ]
    }
   ],
   "source": [
    "np.array(accuracy).mean()"
   ]
  },
  {
   "cell_type": "code",
   "execution_count": null,
   "metadata": {},
   "outputs": [],
   "source": []
  },
  {
   "cell_type": "code",
   "execution_count": null,
   "metadata": {},
   "outputs": [],
   "source": []
  },
  {
   "cell_type": "code",
   "execution_count": null,
   "metadata": {},
   "outputs": [],
   "source": []
  }
 ],
 "metadata": {
  "kernelspec": {
   "display_name": "Python 3",
   "language": "python",
   "name": "python3"
  },
  "language_info": {
   "codemirror_mode": {
    "name": "ipython",
    "version": 3
   },
   "file_extension": ".py",
   "mimetype": "text/x-python",
   "name": "python",
   "nbconvert_exporter": "python",
   "pygments_lexer": "ipython3",
   "version": "3.7.3"
  }
 },
 "nbformat": 4,
 "nbformat_minor": 4
}
